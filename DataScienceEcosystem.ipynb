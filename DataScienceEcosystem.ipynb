{
 "cells": [
  {
   "cell_type": "markdown",
   "id": "e717336a-e8b8-41df-aad9-11d6b7a872c7",
   "metadata": {},
   "source": [
    "#### In this notebook, Data Science Tools and Ecosystem are summarized."
   ]
  },
  {
   "cell_type": "markdown",
   "id": "194142d0-65f7-4020-9d32-f857fe6e6823",
   "metadata": {},
   "source": [
    "**Objectives:**\n",
    "- List popular languages for Data Science\n",
    "- Name a few commonly used libraries used by Data Scientists\n",
    "- List three open-source tools in a table"
   ]
  },
  {
   "cell_type": "markdown",
   "id": "20882a1d-8c67-4b55-ad70-4602605ce9e1",
   "metadata": {
    "tags": []
   },
   "source": [
    "# Data Science Tools and Ecosystem"
   ]
  },
  {
   "cell_type": "markdown",
   "id": "6a664192-4333-4bbe-b822-33a3dd37f798",
   "metadata": {},
   "source": [
    "#### Some of the popular languages that Data Scientists use are:"
   ]
  },
  {
   "cell_type": "markdown",
   "id": "7bf4e545-542b-417d-98b2-82e385a8060d",
   "metadata": {},
   "source": [
    "1. Python\n",
    "2. R\n",
    "3. SQL"
   ]
  },
  {
   "cell_type": "markdown",
   "id": "734c69e3-cebf-4c0d-b68b-a01d7bff5258",
   "metadata": {},
   "source": [
    "#### Some of the commonly used libraries used by Data Scientists include:"
   ]
  },
  {
   "cell_type": "markdown",
   "id": "147434a2-d784-4495-a282-d4dfa0983013",
   "metadata": {
    "tags": []
   },
   "source": [
    "- TensorFlow\n",
    "- PyTorch\n",
    "- NumPy\n",
    "- Keras\n",
    "- SciPy"
   ]
  },
  {
   "cell_type": "markdown",
   "id": "952bbca1-1266-4134-96e3-91866f4d379e",
   "metadata": {},
   "source": [
    "| Data Science Tools |\n",
    "| ------------------ |\n",
    "| MySQL              |\n",
    "| Apache Kafka       |\n",
    "| Hue                |"
   ]
  },
  {
   "cell_type": "markdown",
   "id": "3eea8931-9ec3-407d-8a99-fd85275f43e8",
   "metadata": {},
   "source": [
    "### Below are a few examples of evaluating arithmetic expressions in Python"
   ]
  },
  {
   "cell_type": "code",
   "execution_count": 3,
   "id": "fb46c218-dde7-44fd-97ab-7d4703d430d7",
   "metadata": {
    "tags": []
   },
   "outputs": [
    {
     "data": {
      "text/plain": [
       "17"
      ]
     },
     "execution_count": 3,
     "metadata": {},
     "output_type": "execute_result"
    }
   ],
   "source": [
    "# This a simple arithmetic expression to mutiply then add integers\n",
    "(3*4)+5"
   ]
  },
  {
   "cell_type": "code",
   "execution_count": 4,
   "id": "d2405a43-5516-42bd-83f6-dd309eff8fae",
   "metadata": {
    "tags": []
   },
   "outputs": [
    {
     "data": {
      "text/plain": [
       "3.3333333333333335"
      ]
     },
     "execution_count": 4,
     "metadata": {},
     "output_type": "execute_result"
    }
   ],
   "source": [
    "# This will convert 200 minutes to hours by diving by 60\n",
    "200 / 60"
   ]
  },
  {
   "cell_type": "markdown",
   "id": "e417078d-b055-421b-82ea-b2aadb8a5c25",
   "metadata": {},
   "source": [
    "## Author\n",
    "Denis Efremov"
   ]
  },
  {
   "cell_type": "code",
   "execution_count": null,
   "id": "e3e83fa5-da5e-4c35-93cb-7a7773097cb1",
   "metadata": {},
   "outputs": [],
   "source": []
  }
 ],
 "metadata": {
  "kernelspec": {
   "display_name": "Python",
   "language": "python",
   "name": "conda-env-python-py"
  },
  "language_info": {
   "codemirror_mode": {
    "name": "ipython",
    "version": 3
   },
   "file_extension": ".py",
   "mimetype": "text/x-python",
   "name": "python",
   "nbconvert_exporter": "python",
   "pygments_lexer": "ipython3",
   "version": "3.7.12"
  }
 },
 "nbformat": 4,
 "nbformat_minor": 5
}
